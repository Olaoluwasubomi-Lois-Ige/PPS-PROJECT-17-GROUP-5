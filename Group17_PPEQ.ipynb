{
  "metadata": {
    "kernelspec": {
      "name": "python",
      "display_name": "Python (Pyodide)",
      "language": "python"
    },
    "language_info": {
      "codemirror_mode": {
        "name": "python",
        "version": 3
      },
      "file_extension": ".py",
      "mimetype": "text/x-python",
      "name": "python",
      "nbconvert_exporter": "python",
      "pygments_lexer": "ipython3",
      "version": "3.8"
    }
  },
  "nbformat_minor": 5,
  "nbformat": 4,
  "cells": [
    {
      "id": "2e8af57d-de29-48ae-9ef3-99a8a4b10a2c",
      "cell_type": "markdown",
      "source": "****\n\n# <div align=\"center\"><b><span style=\"color:orange;\">Python Proficiency for Scientific Computing and Data Science (PyPro-SCiDaS)</span></b></div>\n\n### <div align=\"center\"><b><span style=\"color:green;\">GROUP 17</span></b></div>\n\n---\n\n### <div align=\"center\"><b><span style=\"color:green;\">GROUP MEMBERS</span></b></div>\n\n#### <div align=\"center\"><b><span style=\"color:green;\">Emmanuel KIBISI (Group Leader)</span></b></div>\n#### <div align=\"center\"><b><span style=\"color:green;\">Joshua Pius OPIO</span></b></div>\n#### <div align=\"center\"><b><span style=\"color:green;\">Jean Maheritiana RAMANANTSOA</span></b></div>\n#### <div align=\"center\"><b><span style=\"color:green;\">Olaoluwasubomi Lois IGE</span></b></div>",
      "metadata": {}
    },
    {
      "id": "7f686fcc-1a9d-4956-aff9-2d3ae3ec2d64",
      "cell_type": "markdown",
      "source": "****\n\n# <center> <b> <span style=\"color:blue;\"> Project 5: License Plate Detection </span> </b></center>\n\n\n****",
      "metadata": {}
    },
    {
      "id": "e9b78296-7772-43a5-b4ba-508cbdf0d72d",
      "cell_type": "code",
      "source": "def license_plate_detector():\n    \"\"\"\n    This function detects the presence of Senegalese vehicle license plate numbers inside any text string.\n    Input:\n        > The user types any text (can contain words, numbers, or possible license plates), e.g., \"xy-1234-t was seen near zz 9999 at.\"\n        > The user can type 'e' to exit the program.\n    Output:\n        > Returns:\n            -\n            - \"Detected License Plates:\" followed by all valid plates found.\n            - \"Total unique plates found: <number>\"\n            - Or \"No valid license plates found,\" if none are detected.\n        > Ends with \"Exiting the program... Goodbye!!!\" when the user quits.\n    \"\"\"\n\n    print(\"=\" * 39)\n    print(\"   Senegalese License Plate Detector   \")\n    print(\"=\" * 39)\n\n    while True:\n        user_input = input(\"\\nPlease enter your text (or 'e' to exit'):\\n\").strip() # Ask for the user's input and remove space at the beginning and ending of the input\n\n        print() # print and an empty line. this is visual look.\n\n        try: # raise an error message when the user do not input a text.\n            if not user_input:\n                raise ValueError(\"You entered nothing! Please provide text before pressing Enter.\")\n        except ValueError as err:\n            print(f\"[Warning] {err}\")\n            continue\n\n        if user_input.lower() == 'e': # exit condition\n            print(\"Exiting the program... Goodbye!!!\")\n            break\n\n        # CLEANING THE USER'S INPUT\n        text = user_input.upper() # capitalize the user's input so that all the input will be in the same case\n        while \" -\" in text or \"- \" in text: # fixes all inconsistent hyphen spacing, even mixed cases like ' - 1234 - '\n            text = text.replace(\" -\", \"-\").replace(\"- \", \"-\")\n        punctuation_marks = [ \",\", \";\", \":\", \".\", \"!\", \"?\", \"~\", \"`\", \"“\", \"”\", \"@\", \"#\", \"$\", \"%\",\n            \"^\", \"&\", \"*\", \"(\", \")\", \"_\", \"+\", \"=\", \"|\", \"{\", \"[\", \"]\", \"}\", \"'\",\n            \"\\\"\", \"/\", \">\", \"<\"]\n        for sep in punctuation_marks: # replaces punctuation with a space (to separate plates from trailing punctuation)\n            text = text.replace(sep, \" \")\n        while \"  \" in text: # replaces double spacing to one spacing, so no matter the number of spacing, it always reduces it to one spacing\n            text = text.replace(\"  \", \" \")\n\n        word_list = text.split() # split the user's input into a list of words\n\n        found = [] # creates an empty list to store the correct Senegalese plate numbers\n\n        # IDENTIFYING THE SENEGALESE PLATE NUMBER IN THE TEXT\n        i = 0\n        while i < len(word_list):\n            token = word_list[i]\n            duplicate_separators = False # a flag to remember we saw repeated hyphens\n            if \"--\" in token: # detect and clean duplicate hyphens inside each token\n                duplicate_separators = True\n            while \"--\" in token:\n                token = token.replace(\"--\", \"-\")\n            if token.isalnum(): # detect glued together plates (no hyphens or spaces)\n                if len(token) in (7, 8):\n                    prefix = token[:2]\n                    middle = token[2:6]\n                    suffix = token[6:]\n                    if prefix.isalpha() and middle.isdigit() and suffix.isalpha() and len(suffix) in (1, 2):\n                      # doesn't add correct plate numbers that are glued togther to the list found but prints a warning and skip to next token\n                        print(f\"[WARNING] '{token}' looks like a valid plate but is missing separators (- or space).\")\n            if i + 2 < len(word_list):# handle space-separated 3-part forms\n                part_1, part_2, part_3 = word_list[i], word_list[i+1], word_list[i+2]\n                if len(part_1) == 2 and part_1.isalpha() and len(part_2) == 4 and part_2.isdigit() and len(part_3) in (1, 2) and part_3.isalpha():\n                    token = f\"{part_1}-{part_2}-{part_3}\"\n                    i += 2  # skips the next two tokens\n            plate_sec = token.split(\"-\") # split the plate numbers that are already sperated by hyphens\n            if len(plate_sec) != 3:\n                i += 1\n                continue\n            sec_1, sec_2, sec_3 = plate_sec # assign the spilt section to different variables\n            if len(sec_1) != 2 or not sec_1.isalpha(): # validate structure\n                i += 1\n                continue\n            if len(sec_2) != 4 or not sec_2.isdigit():\n                i += 1\n                continue\n            if not (len(sec_3) in (1, 2) and sec_3.isalpha()):\n                i += 1\n                continue\n            if token in found: # avoid duplicates and prints a warning about the duplicate found\n                print(f\"[WARNING] Duplicate plate number detected: {token} (ignored).\")\n            else:\n                found.append(token)\n                if duplicate_separators: # prints a warning message for correctly written plate number that had duplicate seperator but was corrected\n                    print(f\"[WARNING] '{token}' appeared valid but had duplicate '-' separators. Cleaned automatically.\")\n            i += 1\n\n        # PRINTING THE RESULT IN A GOOD STYLE\n        if found: # print results\n            print(\"\\nThe detected Senegalese vehicle license plate number(s):\\n\")\n            for x, plate in enumerate(found, 1):\n                print(f\"{x}. {plate}\\n\")\n            print(f\"The total correct Senegalese plates numbers found are {len(found)}\")\n        else:\n            print(\"No valid license plate detected.\")",
      "metadata": {
        "trusted": true
      },
      "outputs": [],
      "execution_count": 2
    },
    {
      "id": "ea6cfaee-1de0-40cd-9f5a-c77e3aedd298",
      "cell_type": "code",
      "source": "license_plate_detector()",
      "metadata": {
        "trusted": true
      },
      "outputs": [],
      "execution_count": null
    },
    {
      "id": "ba07b83f-f2f8-4e33-adae-3fd1eae18538",
      "cell_type": "markdown",
      "source": "# TESTING SAMPLES\n\n1. During a patrol, we saw xy-1234-t, XY 5678 ZT, ab-1364-t,\nand ad 3281 e. Then someone typed st--8743--a and xy1234t.\n\n#### OUTPUT\n\n[WARNING] 'xy1234t' looks like a valid plate but is missing separators.\n[WARNING] 'ST-8743-A' appeared valid but had duplicate '-' separators.\n\nDetected License Plates:\n1. XY-1234-T\n2. XY-5678-ZT\n3. AB-1364-T\n4. AD-3281-E\n\nTotal unique plates found: 4\n\n2. Today, many wrong formats appeared: 12-ABCD-T starts with digits, XY-12T4-T mixes digits and letters, AA-12345-T has five digits, ABCD-1234-TZ too many letters at start, AB-1234-TZZ too many at end, and A-1234-T only one letter at start. There was also XY12345T glued with five digits, and X1-2345-T wrong prefix. Another invalid is AB 123-T missing a digit, and finally, random text like AAXY1234TZB or TXY-1234-A should not be matched. Today, many wrong formats appeared: 12-ABCD-T starts with digits, XY-12T4-T mixes digits and letters, AA-12345-T has five digits, ABCD-1234-TZ too many letters at start, AB-1234-TZZ too many at end, and A-1234-T only one letter at start. There was also XY12345T glued with five digits, and X1-2345-T wrong prefix. Another invalid is AB 123-T missing a digit, and finally, random text like AAXY1234TZB or TXY-1234-A should not be matched.\n\n#### OUTPUT\n\nNo valid license plate detected.\n\n3. At 10:45 AM, the patrol team stopped several vehicles near the junction. The first one was gh-1234-t, followed by KL 5678 ZT. Later, ab-0001-xz and mn-2222-q were also recorded. Another officer mistakenly wrote op--3333--z with double hyphens, while pq-4444-z appeared twice pq-4444-z. During the rush, someone noted we2345t glued together, and another incorrectly entered 12-ABCD-T (digits first) and XY-12t4-T (mixed). A fake code ABXY1234TZ was spotted on a bumper. Two more correct plates, cd - 8765 - z and EF -0001- Q, were added to the list. The log ended with random junk xy-t-1234 and gh12345t.\n\n#### OUTPUT\n\n[WARNING] 'OP-3333-Z' appeared valid but had duplicate '-' separators. Cleaned automatically.\n\n[WARNING] Duplicate plate detected: PQ-4444-Z (ignored).\n\n[WARNING] 'WE2345T' looks like a valid plate but is missing separators (- or space).\n\nThe detected Senegalese vehicle license plate number(s):\n\n1. GH-1234-T\n\n2. KL-5678-ZT\n\n3. AB-0001-XZ\n\n4. MN-2222-Q\n\n5. OP-3333-Z\n\n6. PQ-4444-Z\n\n7. CD-8765-Z\n\n8. EF-0001-Q\n\nThe total correct Senegalese plates numbers found are 8",
      "metadata": {}
    },
    {
      "id": "e7b26720-1167-454f-be9c-8ab30288ecaf",
      "cell_type": "code",
      "source": "",
      "metadata": {
        "trusted": true
      },
      "outputs": [],
      "execution_count": null
    }
  ]
}